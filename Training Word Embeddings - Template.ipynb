{
 "cells": [
  {
   "cell_type": "markdown",
   "id": "17f3eea2",
   "metadata": {},
   "source": [
    "### Loading Data"
   ]
  },
  {
   "cell_type": "code",
   "execution_count": null,
   "id": "interstate-sterling",
   "metadata": {},
   "outputs": [],
   "source": []
  },
  {
   "cell_type": "markdown",
   "id": "1369aa51",
   "metadata": {},
   "source": [
    "### Removing '\\n' from the end of every sentence and convert the sentence into lowercase   \n"
   ]
  },
  {
   "cell_type": "code",
   "execution_count": null,
   "id": "removed-preparation",
   "metadata": {},
   "outputs": [],
   "source": []
  },
  {
   "cell_type": "markdown",
   "id": "03c1aec2",
   "metadata": {},
   "source": [
    "### Removing stop words\n"
   ]
  },
  {
   "cell_type": "code",
   "execution_count": null,
   "id": "weighted-while",
   "metadata": {},
   "outputs": [],
   "source": []
  },
  {
   "cell_type": "markdown",
   "id": "9c060ff9",
   "metadata": {},
   "source": [
    "### Creating bigrams\n"
   ]
  },
  {
   "cell_type": "code",
   "execution_count": null,
   "id": "instructional-testimony",
   "metadata": {},
   "outputs": [],
   "source": []
  },
  {
   "cell_type": "markdown",
   "id": "a9c73a57",
   "metadata": {},
   "source": [
    "### Getting a list of unique words"
   ]
  },
  {
   "cell_type": "code",
   "execution_count": null,
   "id": "numerous-huntington",
   "metadata": {},
   "outputs": [],
   "source": []
  },
  {
   "cell_type": "markdown",
   "id": "2e20adfa",
   "metadata": {},
   "source": [
    "### Creating dictionary of words"
   ]
  },
  {
   "cell_type": "code",
   "execution_count": null,
   "id": "psychological-scroll",
   "metadata": {},
   "outputs": [],
   "source": []
  },
  {
   "cell_type": "markdown",
   "id": "3f911c7d",
   "metadata": {},
   "source": [
    "### Performing one-hot encoding"
   ]
  },
  {
   "cell_type": "code",
   "execution_count": null,
   "id": "fifty-nelson",
   "metadata": {},
   "outputs": [],
   "source": []
  },
  {
   "cell_type": "markdown",
   "id": "d218441d",
   "metadata": {},
   "source": [
    "### Model"
   ]
  },
  {
   "cell_type": "code",
   "execution_count": null,
   "id": "e116aadf",
   "metadata": {},
   "outputs": [],
   "source": []
  }
 ],
 "metadata": {
  "kernelspec": {
   "display_name": "Python 3",
   "language": "python",
   "name": "python3"
  },
  "language_info": {
   "codemirror_mode": {
    "name": "ipython",
    "version": 3
   },
   "file_extension": ".py",
   "mimetype": "text/x-python",
   "name": "python",
   "nbconvert_exporter": "python",
   "pygments_lexer": "ipython3",
   "version": "3.9.1"
  },
  "vscode": {
   "interpreter": {
    "hash": "f06e3119828c145c4028f0fee76387e74b42caa79bccb80b4ba64fe213bb9e06"
   }
  }
 },
 "nbformat": 4,
 "nbformat_minor": 5
}
