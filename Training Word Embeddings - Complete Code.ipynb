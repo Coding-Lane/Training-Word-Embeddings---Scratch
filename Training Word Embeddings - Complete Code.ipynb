{
 "cells": [
  {
   "cell_type": "markdown",
   "id": "17f3eea2",
   "metadata": {},
   "source": [
    "### Loading Data"
   ]
  },
  {
   "cell_type": "code",
   "execution_count": 1,
   "id": "f4e7712f",
   "metadata": {},
   "outputs": [
    {
     "name": "stdout",
     "output_type": "stream",
     "text": [
      "['The future king is the prince\\n', 'Daughter is the princess\\n', 'Son is the prince\\n', 'Only a man can be a king\\n', 'Only a woman can be a queen\\n', 'The princess will be a queen\\n', 'The prince is a strong man\\n', 'The princess is a beautiful woman\\n', 'Prince is only a boy now\\n', 'Prince will be king\\n', 'A boy will be a man']\n"
     ]
    }
   ],
   "source": [
    "file = open('Royal_data.txt', 'r')\n",
    "royal_data = file.readlines()\n",
    "print(royal_data)\n",
    "file.close()"
   ]
  },
  {
   "cell_type": "markdown",
   "id": "1369aa51",
   "metadata": {},
   "source": [
    "### Removing '\\n' from the end of every sentence and convert the sentence into lowercase   \n"
   ]
  },
  {
   "cell_type": "code",
   "execution_count": 2,
   "id": "88af9298",
   "metadata": {},
   "outputs": [
    {
     "name": "stdout",
     "output_type": "stream",
     "text": [
      "['the future king is the prince', 'daughter is the princess', 'son is the prince', 'only a man can be a king', 'only a woman can be a queen', 'the princess will be a queen', 'the prince is a strong man', 'the princess is a beautiful woman', 'prince is only a boy now', 'prince will be king', 'a boy will be a man']\n"
     ]
    }
   ],
   "source": [
    "for i in range(len(royal_data)):\n",
    "    royal_data[i] = royal_data[i].lower().replace('\\n', '')\n",
    "\n",
    "print(royal_data)                                                      \n"
   ]
  },
  {
   "cell_type": "markdown",
   "id": "03c1aec2",
   "metadata": {},
   "source": [
    "### Removing stop words\n"
   ]
  },
  {
   "cell_type": "code",
   "execution_count": 3,
   "id": "236da810",
   "metadata": {},
   "outputs": [
    {
     "name": "stdout",
     "output_type": "stream",
     "text": [
      "[['future', 'king', 'prince'], ['daughter', 'princess'], ['son', 'prince'], ['man', 'king'], ['woman', 'queen'], ['princess', 'queen'], ['prince', 'strong', 'man'], ['princess', 'beautiful', 'woman'], ['prince', 'boy'], ['prince', 'king'], ['boy', 'man']]\n"
     ]
    }
   ],
   "source": [
    "stopwords = ['the', 'is', 'will', 'be', 'a', 'only', 'can', 'their', 'now', 'and', 'at', 'it']\n",
    "\n",
    "filtered_data = []\n",
    "for sent in royal_data:\n",
    "    temp = []\n",
    "    for word in sent.split():\n",
    "        if word not in stopwords:\n",
    "            temp.append(word)\n",
    "    filtered_data.append(temp)\n",
    "\n",
    "print(filtered_data)"
   ]
  },
  {
   "cell_type": "markdown",
   "id": "9c060ff9",
   "metadata": {},
   "source": [
    "### Creating bigrams\n"
   ]
  },
  {
   "cell_type": "code",
   "execution_count": 4,
   "id": "feb52dc7",
   "metadata": {},
   "outputs": [
    {
     "name": "stdout",
     "output_type": "stream",
     "text": [
      "[['future', 'king'], ['king', 'future'], ['future', 'prince'], ['prince', 'future'], ['king', 'prince'], ['prince', 'king'], ['daughter', 'princess'], ['princess', 'daughter'], ['son', 'prince'], ['prince', 'son'], ['man', 'king'], ['king', 'man'], ['woman', 'queen'], ['queen', 'woman'], ['princess', 'queen'], ['queen', 'princess'], ['prince', 'strong'], ['strong', 'prince'], ['prince', 'man'], ['man', 'prince'], ['strong', 'man'], ['man', 'strong'], ['princess', 'beautiful'], ['beautiful', 'princess'], ['princess', 'woman'], ['woman', 'princess'], ['beautiful', 'woman'], ['woman', 'beautiful'], ['prince', 'boy'], ['boy', 'prince'], ['prince', 'king'], ['king', 'prince'], ['boy', 'man'], ['man', 'boy']]\n"
     ]
    }
   ],
   "source": [
    "bigrams = []\n",
    "for words_list in filtered_data:\n",
    "    for i in range(len(words_list) - 1):\n",
    "        for j in range(i+1, len(words_list)):\n",
    "            bigrams.append([words_list[i], words_list[j]])\n",
    "            bigrams.append([words_list[j], words_list[i]])\n",
    "            \n",
    "\n",
    "print(bigrams)"
   ]
  },
  {
   "cell_type": "markdown",
   "id": "a9c73a57",
   "metadata": {},
   "source": [
    "### Getting a list of unique words"
   ]
  },
  {
   "cell_type": "code",
   "execution_count": 5,
   "id": "20547a7c",
   "metadata": {},
   "outputs": [
    {
     "name": "stdout",
     "output_type": "stream",
     "text": [
      "['beautiful', 'boy', 'daughter', 'future', 'king', 'man', 'prince', 'princess', 'queen', 'son', 'strong', 'woman']\n",
      "Total number of unique words are: 12\n"
     ]
    }
   ],
   "source": [
    "all_words = []\n",
    "for bi in bigrams:\n",
    "    all_words.extend(bi)\n",
    "\n",
    "all_words = list(set(all_words))\n",
    "all_words.sort()\n",
    "\n",
    "print(all_words)\n",
    "print(\"Total number of unique words are:\", len(all_words))"
   ]
  },
  {
   "cell_type": "markdown",
   "id": "2e20adfa",
   "metadata": {},
   "source": [
    "### Creating dictionary of words"
   ]
  },
  {
   "cell_type": "code",
   "execution_count": 6,
   "id": "5e8da645",
   "metadata": {},
   "outputs": [
    {
     "name": "stdout",
     "output_type": "stream",
     "text": [
      "{'beautiful': 0, 'boy': 1, 'daughter': 2, 'future': 3, 'king': 4, 'man': 5, 'prince': 6, 'princess': 7, 'queen': 8, 'son': 9, 'strong': 10, 'woman': 11}\n"
     ]
    }
   ],
   "source": [
    "words_dict = {}\n",
    "\n",
    "counter = 0\n",
    "for word in all_words:\n",
    "    words_dict[word] = counter\n",
    "    counter += 1\n",
    "\n",
    "print(words_dict)"
   ]
  },
  {
   "cell_type": "markdown",
   "id": "3f911c7d",
   "metadata": {},
   "source": [
    "### Performing one-hot encoding"
   ]
  },
  {
   "cell_type": "code",
   "execution_count": 7,
   "id": "7062308d",
   "metadata": {},
   "outputs": [
    {
     "name": "stdout",
     "output_type": "stream",
     "text": [
      "beautiful : [1. 0. 0. 0. 0. 0. 0. 0. 0. 0. 0. 0.]\n",
      "boy : [0. 1. 0. 0. 0. 0. 0. 0. 0. 0. 0. 0.]\n",
      "daughter : [0. 0. 1. 0. 0. 0. 0. 0. 0. 0. 0. 0.]\n",
      "future : [0. 0. 0. 1. 0. 0. 0. 0. 0. 0. 0. 0.]\n",
      "king : [0. 0. 0. 0. 1. 0. 0. 0. 0. 0. 0. 0.]\n",
      "man : [0. 0. 0. 0. 0. 1. 0. 0. 0. 0. 0. 0.]\n",
      "prince : [0. 0. 0. 0. 0. 0. 1. 0. 0. 0. 0. 0.]\n",
      "princess : [0. 0. 0. 0. 0. 0. 0. 1. 0. 0. 0. 0.]\n",
      "queen : [0. 0. 0. 0. 0. 0. 0. 0. 1. 0. 0. 0.]\n",
      "son : [0. 0. 0. 0. 0. 0. 0. 0. 0. 1. 0. 0.]\n",
      "strong : [0. 0. 0. 0. 0. 0. 0. 0. 0. 0. 1. 0.]\n",
      "woman : [0. 0. 0. 0. 0. 0. 0. 0. 0. 0. 0. 1.]\n"
     ]
    }
   ],
   "source": [
    "import numpy as np\n",
    "\n",
    "onehot_data = np.zeros((len(all_words), len(all_words)))\n",
    "\n",
    "for i in range(len(all_words)):\n",
    "    onehot_data[i][i] = 1\n",
    "\n",
    "onehot_dict = {}\n",
    "counter = 0\n",
    "for word in all_words:\n",
    "    onehot_dict[word] = onehot_data[counter]\n",
    "    counter += 1\n",
    "\n",
    "for word in onehot_dict:\n",
    "    print(word, \":\", onehot_dict[word])\n"
   ]
  },
  {
   "cell_type": "code",
   "execution_count": 8,
   "id": "0a6fe9e5",
   "metadata": {},
   "outputs": [],
   "source": [
    "X = []\n",
    "Y = []\n",
    "\n",
    "for bi in bigrams:\n",
    "    X.append(onehot_dict[bi[0]])\n",
    "    Y.append(onehot_dict[bi[1]])\n",
    "    \n",
    "X = np.array(X)\n",
    "Y = np.array(Y)"
   ]
  },
  {
   "cell_type": "markdown",
   "id": "d218441d",
   "metadata": {},
   "source": [
    "### Model"
   ]
  },
  {
   "cell_type": "code",
   "execution_count": 21,
   "id": "91f1fa31",
   "metadata": {},
   "outputs": [],
   "source": [
    "from keras.models import Sequential\n",
    "from keras.layers import Dense\n",
    "\n",
    "embed_size = 2\n",
    "\n",
    "model = Sequential([\n",
    "    Dense(embed_size, activation='linear'),\n",
    "    Dense(Y.shape[1], activation = 'softmax')\n",
    "])\n",
    "\n",
    "model.compile(loss = 'categorical_crossentropy', optimizer = 'adam')\n",
    "\n"
   ]
  },
  {
   "cell_type": "code",
   "execution_count": 22,
   "id": "3796ca1b",
   "metadata": {},
   "outputs": [
    {
     "data": {
      "text/plain": [
       "<keras.callbacks.History at 0x1811f047700>"
      ]
     },
     "execution_count": 22,
     "metadata": {},
     "output_type": "execute_result"
    }
   ],
   "source": [
    "model.fit(X, Y, epochs = 1000, batch_size = 256, verbose = False)"
   ]
  },
  {
   "cell_type": "code",
   "execution_count": 23,
   "id": "2e9d8ebe",
   "metadata": {},
   "outputs": [],
   "source": [
    "weights = model.get_weights()[0]\n",
    "\n",
    "word_embeddings = {}\n",
    "for word in all_words:\n",
    "    word_embeddings[word] = weights[words_dict[word]]\n",
    "\n",
    "# print(word_embeddings)"
   ]
  },
  {
   "cell_type": "code",
   "execution_count": 24,
   "id": "95cf5e2d",
   "metadata": {},
   "outputs": [
    {
     "data": {
      "image/png": "[encoded data removed]",
      "text/plain": [
       "<Figure size 432x288 with 1 Axes>"
      ]
     },
     "metadata": {
      "needs_background": "light"
     },
     "output_type": "display_data"
    }
   ],
   "source": [
    "import matplotlib.pyplot as plt\n",
    "\n",
    "# plt.figure(figsize = (10, 10))\n",
    "for word in list(words_dict.keys()):\n",
    "    coord = word_embeddings.get(word)\n",
    "    plt.scatter(coord[0], coord[1])\n",
    "    plt.annotate(word, (coord[0], coord[1]))\n",
    "\n",
    "plt.savefig('img.jpg')"
   ]
  },
  {
   "cell_type": "code",
   "execution_count": null,
   "id": "e116aadf",
   "metadata": {},
   "outputs": [],
   "source": []
  }
 ],
 "metadata": {
  "kernelspec": {
   "display_name": "Python 3",
   "language": "python",
   "name": "python3"
  },
  "language_info": {
   "codemirror_mode": {
    "name": "ipython",
    "version": 3
   },
   "file_extension": ".py",
   "mimetype": "text/x-python",
   "name": "python",
   "nbconvert_exporter": "python",
   "pygments_lexer": "ipython3",
   "version": "3.9.1"
  },
  "vscode": {
   "interpreter": {
    "hash": "f06e3119828c145c4028f0fee76387e74b42caa79bccb80b4ba64fe213bb9e06"
   }
  }
 },
 "nbformat": 4,
 "nbformat_minor": 5
}
